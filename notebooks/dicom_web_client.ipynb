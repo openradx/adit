{
 "cells": [
  {
   "cell_type": "code",
   "execution_count": null,
   "metadata": {},
   "outputs": [],
   "source": [
    "import os\n",
    "\n",
    "from dotenv import load_dotenv\n",
    "from dicomweb_client import DICOMwebClient\n",
    "\n",
    "load_dotenv(\"../.env.dev\")\n",
    "\n",
    "url = \"http://localhost:8000/api/dicom-web/ORTHANC1\"\n",
    "\n",
    "token = os.environ[\"ADMIN_AUTH_TOKEN\"]\n",
    "\n",
    "client = DICOMwebClient(\n",
    "    url=url,\n",
    "    qido_url_prefix=\"qidors\",\n",
    "    wado_url_prefix=\"wadors\",\n",
    "    stow_url_prefix=\"stowrs\",\n",
    "    headers={\"Authorization\": f\"Token {token}\"},\n",
    ")\n",
    "\n",
    "client.search_for_studies(search_filters={\"PatientID\": \"1001\"})"
   ]
  },
  {
   "cell_type": "code",
   "execution_count": null,
   "metadata": {},
   "outputs": [],
   "source": [
    "client.search_for_series(\"1.2.840.113845.11.1000000001951524609.20200705182951.2689481\")"
   ]
  },
  {
   "cell_type": "code",
   "execution_count": null,
   "metadata": {},
   "outputs": [],
   "source": [
    "response = client.retrieve_series(\n",
    "    \"1.2.840.113845.11.1000000001951524609.20200705182951.2689481\",\n",
    "    \"1.3.12.2.1107.5.1.4.66002.30000020070514400054400005494\",\n",
    ")\n",
    "\n",
    "print(response)"
   ]
  },
  {
   "cell_type": "code",
   "execution_count": null,
   "metadata": {},
   "outputs": [],
   "source": [
    "response = client.iter_series(\n",
    "    \"1.2.840.113845.11.1000000001951524609.20200705182951.2689481\",\n",
    "    \"1.3.12.2.1107.5.1.4.66002.30000020070514400054400005494\",\n",
    ")\n",
    "\n",
    "for item in response:\n",
    "    print(item)"
   ]
  }
 ],
 "metadata": {
  "kernelspec": {
   "display_name": ".venv",
   "language": "python",
   "name": "python3"
  },
  "language_info": {
   "codemirror_mode": {
    "name": "ipython",
    "version": 3
   },
   "file_extension": ".py",
   "mimetype": "text/x-python",
   "name": "python",
   "nbconvert_exporter": "python",
   "pygments_lexer": "ipython3",
   "version": "3.12.2"
  },
  "orig_nbformat": 4
 },
 "nbformat": 4,
 "nbformat_minor": 2
}
