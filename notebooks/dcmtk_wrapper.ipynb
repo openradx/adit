{
 "cells": [
  {
   "cell_type": "markdown",
   "id": "a5804125",
   "metadata": {},
   "source": [
    "## Basic usage examples\n"
   ]
  },
  {
   "cell_type": "code",
   "execution_count": 1,
   "id": "892e9f7c",
   "metadata": {},
   "outputs": [],
   "source": [
    "from tools.DCMTKWrapper import DCMTKWrapper\n",
    "\n",
    "dcmtk = DCMTKWrapper(\"ADIT1DEV\", 11112)\n"
   ]
  },
  {
   "cell_type": "markdown",
   "id": "9968317b",
   "metadata": {},
   "source": [
    "#### C-Find query\n"
   ]
  },
  {
   "cell_type": "code",
   "execution_count": 2,
   "id": "3893581b",
   "metadata": {},
   "outputs": [
    {
     "name": "stdout",
     "output_type": "stream",
     "text": [
      "Running: findscu -v -P -aet ADIT1DEV -aec ORTHANC1 localhost 7501 -k QueryRetrieveLevel=STUDY -k PatientID=1001 -k PatientName= -k StudyInstanceUID= -k StudyDate= -k StudyDescription= -k SeriesInstanceUID= -k SeriesDescription= -k SeriesDate= -k Modality= -k AccessionNumber=\n",
      "I: Requesting Association\n",
      "I: Association Accepted\n",
      "I: Sending Find Request: MsgID 1\n",
      "I: \n",
      "I: # Request Identifier\n",
      "I: (0008,0020) DA (no value available)                     # 0 StudyDate\n",
      "I: (0008,0021) DA (no value available)                     # 0 SeriesDate\n",
      "I: (0008,0050) SH (no value available)                     # 0 AccessionNumber\n",
      "I: (0008,0052) CS [STUDY]                                  # 1 QueryRetrieveLevel\n",
      "I: (0008,0060) CS (no value available)                     # 0 Modality\n",
      "I: (0008,1030) LO (no value available)                     # 0 StudyDescription\n",
      "I: (0008,103E) LO (no value available)                     # 0 SeriesDescription\n",
      "I: (0010,0010) PN (no value available)                     # 0 PatientName\n",
      "I: (0010,0020) LO [1001]                                   # 1 PatientID\n",
      "I: (0020,000D) UI (no value available)                     # 0 StudyInstanceUID\n",
      "I: (0020,000E) UI (no value available)                     # 0 SeriesInstanceUID\n",
      "I: \n",
      "I: Find SCP Response: 1 - 0xFF00 (Pending)\n",
      "I: \n",
      "I: # Response Identifier\n",
      "I: (0008,0005) CS [ISO_IR 100]                             # 1 SpecificCharacterSet\n",
      "I: (0008,0020) DA [20190604]                               # 1 StudyDate\n",
      "I: (0008,0021) DA [20200705]                               # 1 SeriesDate\n",
      "I: (0008,0050) SH [0062115936]                             # 1 AccessionNumber\n",
      "I: (0008,0052) CS [STUDY]                                  # 1 QueryRetrieveLevel\n",
      "I: (0008,0054) AE [ORTHANC1]                               # 1 RetrieveAETitle\n",
      "I: (0008,0060) CS [CT]                                     # 1 Modality\n",
      "I: (0008,1030) LO [CT des Schädels]                        # 1 StudyDescription\n",
      "I: (0008,103E) LO [Topogramm  0.6  T20f]                   # 1 SeriesDescription\n",
      "I: (0010,0010) PN [Apple^Annie]                            # 1 PatientName\n",
      "I: (0010,0020) LO [1001]                                   # 1 PatientID\n",
      "I: (0020,000D) UI [1.2.840.113845.11.1000000001951524609.20200705182951.2689481] # 1 StudyInstanceUID\n",
      "I: (0020,000E) UI [1.3.12.2.1107.5.1.4.66002.30000020070513455668000000609] # 1 SeriesInstanceUID\n",
      "I: \n",
      "I: Find SCP Result: 0x0000 (Success)\n",
      "I: Releasing Association\n",
      "#########################################\n",
      "Running: findscu -v -P -aet ADIT1DEV -aec ORTHANC1 localhost 7501 -k QueryRetrieveLevel=SERIES -k SeriesInstanceUID=1.3.12.2.1107.5.2.18.41369.2020070515244568288101946.0.0.0 -k PatientName= -k PatientID= -k StudyInstanceUID= -k StudyDate= -k StudyDescription= -k SeriesDescription= -k SeriesDate= -k Modality= -k AccessionNumber=\n",
      "I: Requesting Association\n",
      "I: Association Accepted\n",
      "I: Sending Find Request: MsgID 1\n",
      "I: \n",
      "I: # Request Identifier\n",
      "I: (0008,0020) DA (no value available)                     # 0 StudyDate\n",
      "I: (0008,0021) DA (no value available)                     # 0 SeriesDate\n",
      "I: (0008,0050) SH (no value available)                     # 0 AccessionNumber\n",
      "I: (0008,0052) CS [SERIES]                                 # 1 QueryRetrieveLevel\n",
      "I: (0008,0060) CS (no value available)                     # 0 Modality\n",
      "I: (0008,1030) LO (no value available)                     # 0 StudyDescription\n",
      "I: (0008,103E) LO (no value available)                     # 0 SeriesDescription\n",
      "I: (0010,0010) PN (no value available)                     # 0 PatientName\n",
      "I: (0010,0020) LO (no value available)                     # 0 PatientID\n",
      "I: (0020,000D) UI (no value available)                     # 0 StudyInstanceUID\n",
      "I: (0020,000E) UI [1.3.12.2.1107.5.2.18.41369.2020070515244568288101946.0.0.0] # 1 SeriesInstanceUID\n",
      "I: \n",
      "I: Find SCP Response: 1 - 0xFF00 (Pending)\n",
      "I: \n",
      "I: # Response Identifier\n",
      "I: (0008,0005) CS [ISO_IR 100]                             # 1 SpecificCharacterSet\n",
      "I: (0008,0020) DA [20200705]                               # 1 StudyDate\n",
      "I: (0008,0021) DA [20200705]                               # 1 SeriesDate\n",
      "I: (0008,0050) SH [0062115819]                             # 1 AccessionNumber\n",
      "I: (0008,0052) CS [SERIES]                                 # 1 QueryRetrieveLevel\n",
      "I: (0008,0054) AE [ORTHANC1]                               # 1 RetrieveAETitle\n",
      "I: (0008,0060) CS [MR]                                     # 1 Modality\n",
      "I: (0008,1030) LO [MRT-Kopf]                               # 1 StudyDescription\n",
      "I: (0008,103E) LO [t2_tse_tra 5mm]                         # 1 SeriesDescription\n",
      "I: (0010,0010) PN [Watermelon^Willi]                       # 1 PatientName\n",
      "I: (0010,0020) LO [1008]                                   # 1 PatientID\n",
      "I: (0020,000D) UI [1.2.840.113845.11.1000000001951524609.20200705150256.2689458] # 1 StudyInstanceUID\n",
      "I: (0020,000E) UI [1.3.12.2.1107.5.2.18.41369.2020070515244568288101946.0.0.0] # 1 SeriesInstanceUID\n",
      "I: \n",
      "I: Find SCP Result: 0x0000 (Success)\n",
      "I: Releasing Association\n",
      "#########################################\n"
     ]
    },
    {
     "data": {
      "text/plain": [
       "0"
      ]
     },
     "execution_count": 2,
     "metadata": {},
     "output_type": "execute_result"
    }
   ],
   "source": [
    "query = {\n",
    "    \"QueryRetrieveLevel\": \"STUDY\",\n",
    "    \"PatientID\": \"1001\"\n",
    "}\n",
    "dcmtk.findscu(\"ORTHANC1\", \"localhost\", 7501, query)\n",
    "\n",
    "query = {\n",
    "    \"QueryRetrieveLevel\": \"SERIES\",\n",
    "    \"SeriesInstanceUID\": \"1.3.12.2.1107.5.2.18.41369.2020070515244568288101946.0.0.0\"\n",
    "}\n",
    "dcmtk.findscu(\"ORTHANC1\", \"localhost\", 7501, query)\n"
   ]
  },
  {
   "cell_type": "markdown",
   "id": "3dfb6805",
   "metadata": {},
   "source": [
    "#### C-Move request\n"
   ]
  },
  {
   "cell_type": "code",
   "execution_count": 3,
   "id": "b4750a6f",
   "metadata": {},
   "outputs": [
    {
     "name": "stdout",
     "output_type": "stream",
     "text": [
      "Running: movescu -v -P -aet ADIT1DEV -aec ORTHANC1 -aem ORTHANC2 localhost 7501 -k QueryRetrieveLevel=STUDY -k StudyInstanceUID=1.2.840.113845.11.1000000001951524609.20200705182951.2689481\n",
      "I: Requesting Association\n",
      "I: Association Accepted\n",
      "I: Sending Move Request: MsgID 1\n",
      "I: \n",
      "I: # Request Identifier\n",
      "I: (0008,0052) CS [STUDY]                                  # 1 QueryRetrieveLevel\n",
      "I: (0020,000D) UI [1.2.840.113845.11.1000000001951524609.20200705182951.2689481] # 1 StudyInstanceUID\n",
      "I: \n",
      "I: Move SCP Response: 1 - 0xFF00 (Pending)\n",
      "I: Sub-Operations Remaining: 10, Completed: 1, Failed: 0, Warning: 0\n",
      "I: Move SCP Response: 2 - 0xFF00 (Pending)\n",
      "I: Sub-Operations Remaining: 9, Completed: 2, Failed: 0, Warning: 0\n",
      "I: Move SCP Response: 3 - 0xFF00 (Pending)\n",
      "I: Sub-Operations Remaining: 8, Completed: 3, Failed: 0, Warning: 0\n",
      "I: Move SCP Response: 4 - 0xFF00 (Pending)\n",
      "I: Sub-Operations Remaining: 7, Completed: 4, Failed: 0, Warning: 0\n",
      "I: Move SCP Response: 5 - 0xFF00 (Pending)\n",
      "I: Sub-Operations Remaining: 6, Completed: 5, Failed: 0, Warning: 0\n",
      "I: Move SCP Response: 6 - 0xFF00 (Pending)\n",
      "I: Sub-Operations Remaining: 5, Completed: 6, Failed: 0, Warning: 0\n",
      "I: Move SCP Response: 7 - 0xFF00 (Pending)\n",
      "I: Sub-Operations Remaining: 4, Completed: 7, Failed: 0, Warning: 0\n",
      "I: Move SCP Response: 8 - 0xFF00 (Pending)\n",
      "I: Sub-Operations Remaining: 3, Completed: 8, Failed: 0, Warning: 0\n",
      "I: Move SCP Response: 9 - 0xFF00 (Pending)\n",
      "I: Sub-Operations Remaining: 2, Completed: 9, Failed: 0, Warning: 0\n",
      "I: Move SCP Response: 10 - 0xFF00 (Pending)\n",
      "I: Sub-Operations Remaining: 1, Completed: 10, Failed: 0, Warning: 0\n",
      "I: Move SCP Result: 0x0000 (Success)\n",
      "I: Sub-Operations Remaining: 0, Completed: 11, Failed: 0, Warning: 0\n",
      "I: Releasing Association\n",
      "#########################################\n"
     ]
    },
    {
     "data": {
      "text/plain": [
       "0"
      ]
     },
     "execution_count": 3,
     "metadata": {},
     "output_type": "execute_result"
    }
   ],
   "source": [
    "move_query = {\n",
    "    \"QueryRetrieveLevel\": \"STUDY\",\n",
    "    \"StudyInstanceUID\": \"1.2.840.113845.11.1000000001951524609.20200705182951.2689481\"\n",
    "}\n",
    "dcmtk.movescu(\"ORTHANC1\", \"localhost\", 7501, \"ORTHANC2\", move_query)\n"
   ]
  },
  {
   "cell_type": "markdown",
   "id": "f342d61e",
   "metadata": {},
   "source": [
    "#### C-GET request\n"
   ]
  },
  {
   "cell_type": "code",
   "execution_count": 4,
   "id": "a491b766",
   "metadata": {},
   "outputs": [
    {
     "name": "stdout",
     "output_type": "stream",
     "text": [
      "Running: getscu -v -P -aet ADIT1DEV -aec ORTHANC1 localhost 7501 -od ./ -k QueryRetrieveLevel=IMAGE -k SOPInstanceUID=1.3.12.2.1107.5.2.18.41369.2020070515210239042101267\n",
      "I: Requesting Association\n",
      "I: Association Accepted\n",
      "I: Sending Get Request: MsgID 1\n",
      "I: \n",
      "I: # Request Identifier\n",
      "I: (0008,0018) UI [1.3.12.2.1107.5.2.18.41369.2020070515210239042101267] # 1 SOPInstanceUID\n",
      "I: (0008,0052) CS [IMAGE]                                  # 1 QueryRetrieveLevel\n",
      "I: \n",
      "I: Received Store Request\n",
      "I: Storing DICOM file: MR.1.3.12.2.1107.5.2.18.41369.2020070515210239042101267\n",
      "W: DICOM file already exists, overwriting\n",
      "I: Get SCP Response: 1 - 0xFF00 (Pending)\n",
      "I: Sub-Operations Remaining: 0, Completed: 1, Failed: 0, Warning: 0\n",
      "I: Get SCP Result: 0x0000 (Success)\n",
      "I: Sub-Operations Remaining: 0, Completed: 1, Failed: 0, Warning: 0\n",
      "I: Releasing Association\n",
      "#########################################\n"
     ]
    },
    {
     "data": {
      "text/plain": [
       "0"
      ]
     },
     "execution_count": 4,
     "metadata": {},
     "output_type": "execute_result"
    }
   ],
   "source": [
    "get_query = {\n",
    "    \"QueryRetrieveLevel\": \"IMAGE\",\n",
    "    \"SOPInstanceUID\": \"1.3.12.2.1107.5.2.18.41369.2020070515210239042101267\"\n",
    "}\n",
    "dcmtk.getscu(\"ORTHANC1\", \"localhost\", 7501, get_query, output_dir=\"./\")\n"
   ]
  },
  {
   "cell_type": "markdown",
   "id": "73c65535",
   "metadata": {},
   "source": [
    "#### C-STORE request\n"
   ]
  },
  {
   "cell_type": "code",
   "execution_count": 5,
   "id": "e2a5fa10",
   "metadata": {},
   "outputs": [
    {
     "name": "stdout",
     "output_type": "stream",
     "text": [
      "Running: storescu -v -r -aet ADIT1DEV -aec ORTHANC2 localhost 7502 ../samples/dicoms/1008/\n",
      "I: Requesting Association\n",
      "I: Association Accepted\n",
      "I: Sending file: ../samples/dicoms/1008/20200705_152021_MR,SR/AAHead_Scout/00064.dcm\n",
      "I: Sending Store Request: MsgID 1, (MR)\n",
      "I: Received Store Response (Status: 0x0000 - Success)\n",
      "I: Sending file: ../samples/dicoms/1008/20200705_152021_MR,SR/AAHead_Scout/00065.dcm\n",
      "I: Sending Store Request: MsgID 2, (MR)\n",
      "I: Received Store Response (Status: 0x0000 - Success)\n",
      "I: Sending file: ../samples/dicoms/1008/20200705_152021_MR,SR/AAHead_Scout/00066.dcm\n",
      "I: Sending Store Request: MsgID 3, (MR)\n",
      "I: Received Store Response (Status: 0x0000 - Success)\n",
      "I: Sending file: ../samples/dicoms/1008/20200705_152021_MR,SR/AAHead_Scout/00067.dcm\n",
      "I: Sending Store Request: MsgID 4, (MR)\n",
      "I: Received Store Response (Status: 0x0000 - Success)\n",
      "I: Sending file: ../samples/dicoms/1008/20200705_152021_MR,SR/DWI_4scan_trace_tra_ADC/00014.dcm\n",
      "I: Sending Store Request: MsgID 5, (MR)\n",
      "I: Received Store Response (Status: 0x0000 - Success)\n",
      "I: Sending file: ../samples/dicoms/1008/20200705_152021_MR,SR/DWI_4scan_trace_tra_ADC/00015.dcm\n",
      "I: Sending Store Request: MsgID 6, (MR)\n",
      "I: Received Store Response (Status: 0x0000 - Success)\n",
      "I: Sending file: ../samples/dicoms/1008/20200705_152021_MR,SR/DWI_4scan_trace_tra_ADC/00016.dcm\n",
      "I: Sending Store Request: MsgID 7, (MR)\n",
      "I: Received Store Response (Status: 0x0000 - Success)\n",
      "I: Sending file: ../samples/dicoms/1008/20200705_152021_MR,SR/DWI_4scan_trace_tra_ADC/00017.dcm\n",
      "I: Sending Store Request: MsgID 8, (MR)\n",
      "I: Received Store Response (Status: 0x0000 - Success)\n",
      "I: Sending file: ../samples/dicoms/1008/20200705_152021_MR,SR/DWI_4scan_trace_tra_TRACEW/00015.dcm\n",
      "I: Sending Store Request: MsgID 9, (MR)\n",
      "I: Received Store Response (Status: 0x0000 - Success)\n",
      "I: Sending file: ../samples/dicoms/1008/20200705_152021_MR,SR/DWI_4scan_trace_tra_TRACEW/00016.dcm\n",
      "I: Sending Store Request: MsgID 10, (MR)\n",
      "I: Received Store Response (Status: 0x0000 - Success)\n",
      "I: Sending file: ../samples/dicoms/1008/20200705_152021_MR,SR/DWI_4scan_trace_tra_TRACEW/00045.dcm\n",
      "I: Sending Store Request: MsgID 11, (MR)\n",
      "I: Received Store Response (Status: 0x0000 - Success)\n",
      "I: Sending file: ../samples/dicoms/1008/20200705_152021_MR,SR/DWI_4scan_trace_tra_TRACEW/00046.dcm\n",
      "I: Sending Store Request: MsgID 12, (MR)\n",
      "I: Received Store Response (Status: 0x0000 - Success)\n",
      "I: Sending file: ../samples/dicoms/1008/20200705_152021_MR,SR/SWI_Images/00024.dcm\n",
      "I: Sending Store Request: MsgID 13, (MR)\n",
      "I: Received Store Response (Status: 0x0000 - Success)\n",
      "I: Sending file: ../samples/dicoms/1008/20200705_152021_MR,SR/SWI_Images/00025.dcm\n",
      "I: Sending Store Request: MsgID 14, (MR)\n",
      "I: Received Store Response (Status: 0x0000 - Success)\n",
      "I: Sending file: ../samples/dicoms/1008/20200705_152021_MR,SR/SWI_Images/00026.dcm\n",
      "I: Sending Store Request: MsgID 15, (MR)\n",
      "I: Received Store Response (Status: 0x0000 - Success)\n",
      "I: Sending file: ../samples/dicoms/1008/20200705_152021_MR,SR/SWI_Images/00027.dcm\n",
      "I: Sending Store Request: MsgID 16, (MR)\n",
      "I: Received Store Response (Status: 0x0000 - Success)\n",
      "I: Sending file: ../samples/dicoms/1008/20200705_152021_MR,SR/t2_ciss3d_tra_iso_0.7/00030.dcm\n",
      "I: Sending Store Request: MsgID 17, (MR)\n",
      "I: Received Store Response (Status: 0x0000 - Success)\n",
      "I: Sending file: ../samples/dicoms/1008/20200705_152021_MR,SR/t2_ciss3d_tra_iso_0.7/00031.dcm\n",
      "I: Sending Store Request: MsgID 18, (MR)\n",
      "I: Received Store Response (Status: 0x0000 - Success)\n",
      "I: Sending file: ../samples/dicoms/1008/20200705_152021_MR,SR/t2_ciss3d_tra_iso_0.7/00032.dcm\n",
      "I: Sending Store Request: MsgID 19, (MR)\n",
      "I: Received Store Response (Status: 0x0000 - Success)\n",
      "I: Sending file: ../samples/dicoms/1008/20200705_152021_MR,SR/t2_ciss3d_tra_iso_0.7/00033.dcm\n",
      "I: Sending Store Request: MsgID 20, (MR)\n",
      "I: Received Store Response (Status: 0x0000 - Success)\n",
      "I: Sending file: ../samples/dicoms/1008/20200705_152021_MR,SR/t2_tse_tra 5mm/00012.dcm\n",
      "I: Sending Store Request: MsgID 21, (MR)\n",
      "I: Received Store Response (Status: 0x0000 - Success)\n",
      "I: Sending file: ../samples/dicoms/1008/20200705_152021_MR,SR/t2_tse_tra 5mm/00013.dcm\n",
      "I: Sending Store Request: MsgID 22, (MR)\n",
      "I: Received Store Response (Status: 0x0000 - Success)\n",
      "I: Sending file: ../samples/dicoms/1008/20200705_152021_MR,SR/t2_tse_tra 5mm/00014.dcm\n",
      "I: Sending Store Request: MsgID 23, (MR)\n",
      "I: Received Store Response (Status: 0x0000 - Success)\n",
      "I: Sending file: ../samples/dicoms/1008/20200705_152021_MR,SR/t2_tse_tra 5mm/00015.dcm\n",
      "I: Sending Store Request: MsgID 24, (MR)\n",
      "I: Received Store Response (Status: 0x0000 - Success)\n",
      "I: Sending file: ../samples/dicoms/1008/20200705_161127_CT,SR/Kopf nativ  2.0  H70h/00058.dcm\n",
      "I: Sending Store Request: MsgID 25, (CT)\n",
      "I: Received Store Response (Status: 0x0000 - Success)\n",
      "I: Sending file: ../samples/dicoms/1008/20200705_161127_CT,SR/Kopf nativ  2.0  H70h/00059.dcm\n",
      "I: Sending Store Request: MsgID 26, (CT)\n",
      "I: Received Store Response (Status: 0x0000 - Success)\n",
      "I: Sending file: ../samples/dicoms/1008/20200705_161127_CT,SR/Kopf nativ  2.0  H70h/00060.dcm\n",
      "I: Sending Store Request: MsgID 27, (CT)\n",
      "I: Received Store Response (Status: 0x0000 - Success)\n",
      "I: Sending file: ../samples/dicoms/1008/20200705_161127_CT,SR/Kopf nativ  2.0  H70h/00061.dcm\n",
      "I: Sending Store Request: MsgID 28, (CT)\n",
      "I: Received Store Response (Status: 0x0000 - Success)\n",
      "I: Sending file: ../samples/dicoms/1008/20200705_161127_CT,SR/Kopf nativ  5.0  H42s/00018.dcm\n",
      "I: Sending Store Request: MsgID 29, (CT)\n",
      "I: Received Store Response (Status: 0x0000 - Success)\n",
      "I: Sending file: ../samples/dicoms/1008/20200705_161127_CT,SR/Kopf nativ  5.0  H42s/00019.dcm\n",
      "I: Sending Store Request: MsgID 30, (CT)\n",
      "I: Received Store Response (Status: 0x0000 - Success)\n",
      "I: Sending file: ../samples/dicoms/1008/20200705_161127_CT,SR/Kopf nativ  5.0  H42s/00020.dcm\n",
      "I: Sending Store Request: MsgID 31, (CT)\n",
      "I: Received Store Response (Status: 0x0000 - Success)\n",
      "I: Sending file: ../samples/dicoms/1008/20200705_161127_CT,SR/Kopf nativ  5.0  H42s/00021.dcm\n",
      "I: Sending Store Request: MsgID 32, (CT)\n",
      "I: Received Store Response (Status: 0x0000 - Success)\n",
      "I: Sending file: ../samples/dicoms/1008/20200705_161127_CT,SR/Topogramm  0.6  T20f/00001.dcm\n",
      "I: Sending Store Request: MsgID 33, (CT)\n",
      "I: Received Store Response (Status: 0x0000 - Success)\n",
      "I: Sending file: ../samples/dicoms/1008/20200705_161127_CT,SR/Topogramm  0.6  T20f/00002.dcm\n",
      "I: Sending Store Request: MsgID 34, (CT)\n",
      "I: Received Store Response (Status: 0x0000 - Success)\n",
      "I: Releasing Association\n",
      "#########################################\n"
     ]
    },
    {
     "data": {
      "text/plain": [
       "0"
      ]
     },
     "execution_count": 5,
     "metadata": {},
     "output_type": "execute_result"
    }
   ],
   "source": [
    "dcmtk.storescu(\"ORTHANC2\", \"localhost\", 7502, \"../samples/dicoms/1008/\")\n"
   ]
  },
  {
   "cell_type": "markdown",
   "id": "bf5d57a1",
   "metadata": {},
   "source": [
    "## Advanced usage examples\n"
   ]
  },
  {
   "cell_type": "code",
   "execution_count": 6,
   "id": "64ec0ebe",
   "metadata": {},
   "outputs": [],
   "source": [
    "from tools.DCMTKWrapper import DCMTKWrapper\n",
    "\n",
    "dcmtk = DCMTKWrapper(\"ADIT1DEV\", 11112)"
   ]
  },
  {
   "cell_type": "markdown",
   "id": "52e71dc0",
   "metadata": {},
   "source": [
    "#### C-Store request with progress information and completion notification for a debugging use case\n"
   ]
  },
  {
   "cell_type": "code",
   "execution_count": null,
   "id": "9c5a5b48",
   "metadata": {},
   "outputs": [
    {
     "data": {
      "application/vnd.jupyter.widget-view+json": {
       "model_id": "7424610f303842c0966e526bc2207865",
       "version_major": 2,
       "version_minor": 0
      },
      "text/plain": [
       "Number of files:   0%|          | 0/127 [00:00<?, ?it/s]"
      ]
     },
     "metadata": {},
     "output_type": "display_data"
    },
    {
     "name": "stdout",
     "output_type": "stream",
     "text": [
      "\n",
      "Email input would be:\n",
      "Subject: C-Store request completed\n",
      "\n",
      "The C-Store request has been completed.\n",
      "Error with 0 files from a total of 127 files.\n"
     ]
    }
   ],
   "source": [
    "import smtplib\n",
    "from tqdm.notebook import tqdm\n",
    "import os\n",
    "\n",
    "# SMTP information\n",
    "smtp_server = \"localhost\" # Replace 'localhost' with your SMTP server\n",
    "smtp_port = 25 # Replace with your SMTP server port, usually 25, for SMTPS usually 465 or 587\n",
    "\n",
    "from_addr = \"sender@example.com\"\n",
    "to_addr = \"recipient@example.com\" # Add more with ; separator\n",
    "\n",
    "subject = \"C-Store request completed\"\n",
    "body = \"The C-Store request has been completed.\"\n",
    "\n",
    "message = f\"Subject: {subject}\\n\\n{body}\"\n",
    "\n",
    "# Image information\n",
    "image_folder = \"../samples/dicoms\"\n",
    "\n",
    "\n",
    "def count_files_iteratively(root_path):\n",
    "    total_files = 0\n",
    "    for root, dirs, files in os.walk(root_path):\n",
    "        total_files += len(files)\n",
    "    return total_files\n",
    "\n",
    "total_files = count_files_iteratively(image_folder)\n",
    "n_error_files = 0\n",
    "\n",
    "progress_bar = tqdm(total=total_files, desc=\"Number of files\")\n",
    "# This implementation sends each image file with its own association.\n",
    "# This has the advantage of a progress bar which can be updated after each file and error codes for each file, for better debugging.\n",
    "# Disadvantage is, it is much slower. So use only if debugging send information is crucial or/and if the amount of data is small.\n",
    "# Otherwise call storescu on a higher level (series, study, patient or complete data folder). Be aware to update progress bar and\n",
    "# error code information accordingly.\n",
    "with progress_bar:\n",
    "    for root, dirs, files in os.walk(image_folder):\n",
    "        for file in files:\n",
    "            file_path = root + \"/\" + file\n",
    "            if not file.endswith(\".dcm\"):\n",
    "                continue\n",
    "            return_code = dcmtk.storescu(\"ORTHANC2\", \"localhost\", 7502, file_path, print_output=False)\n",
    "            progress_bar.update(1)\n",
    "            if return_code != 0:\n",
    "                message += f\"\\nError with exit code {return_code} with file {file_path}.\"\n",
    "                n_error_files += 1\n",
    "message += f\"\\nError with {n_error_files} files from a total of {total_files} files.\"\n",
    "\n",
    "print(\"\\nEmail input would be:\\n\" + message)\n",
    "with smtplib.SMTP(smtp_server, smtp_port) as server:\n",
    "    server.sendmail(from_addr, to_addr, message)\n"
   ]
  }
 ],
 "metadata": {
  "kernelspec": {
   "display_name": "adit",
   "language": "python",
   "name": "python3"
  },
  "language_info": {
   "codemirror_mode": {
    "name": "ipython",
    "version": 3
   },
   "file_extension": ".py",
   "mimetype": "text/x-python",
   "name": "python",
   "nbconvert_exporter": "python",
   "pygments_lexer": "ipython3",
   "version": "3.13.3"
  }
 },
 "nbformat": 4,
 "nbformat_minor": 5
}
