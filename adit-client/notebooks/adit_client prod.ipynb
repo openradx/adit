{
 "cells": [
  {
   "cell_type": "code",
   "execution_count": null,
   "metadata": {},
   "outputs": [],
   "source": [
    "import os\n",
    "\n",
    "from dotenv import load_dotenv\n",
    "\n",
    "from adit_client import AditClient\n",
    "\n",
    "load_dotenv(\"../../.env.prod\", override=True)\n",
    "\n",
    "server_url = f\"http://localhost:{os.environ['WEB_DEV_PORT']}\"\n",
    "auth_token = os.environ[\"SUPERUSER_AUTH_TOKEN\"]\n",
    "\n",
    "client = AditClient(server_url, auth_token, verify=\"xxx\")\n",
    "\n",
    "client.search_for_studies(\"ORTHANC1\", {\"PatientID\": \"1001\"})"
   ]
  }
 ],
 "metadata": {
  "kernelspec": {
   "display_name": ".venv",
   "language": "python",
   "name": "python3"
  },
  "language_info": {
   "codemirror_mode": {
    "name": "ipython",
    "version": 3
   },
   "file_extension": ".py",
   "mimetype": "text/x-python",
   "name": "python",
   "nbconvert_exporter": "python",
   "pygments_lexer": "ipython3",
   "version": "3.12.3"
  },
  "orig_nbformat": 4
 },
 "nbformat": 4,
 "nbformat_minor": 2
}
