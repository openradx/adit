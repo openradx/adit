{
 "cells": [
  {
   "cell_type": "code",
   "execution_count": null,
   "metadata": {},
   "outputs": [],
   "source": [
    "import os\n",
    "\n",
    "from dotenv import load_dotenv\n",
    "from IPython.display import display\n",
    "\n",
    "from adit_client import AditClient\n",
    "\n",
    "load_dotenv(\"../../.env.dev\", override=True)\n",
    "\n",
    "server_url = f\"http://localhost:{os.environ['WEB_DEV_PORT']}\"\n",
    "auth_token = os.environ[\"SUPERUSER_AUTH_TOKEN\"]\n",
    "\n",
    "client = AditClient(server_url, auth_token)\n",
    "\n",
    "client.search_for_studies(\"ORTHANC1\", {\"PatientID\": \"1001\"})"
   ]
  },
  {
   "cell_type": "code",
   "execution_count": null,
   "metadata": {},
   "outputs": [],
   "source": [
    "studies = client.search_for_studies(\"ORTHANC1\", {\"ModalitiesInStudy\": \"SR\"})\n",
    "modalities = [study.ModalitiesInStudy for study in studies]\n",
    "display(modalities)\n",
    "study_uids = [study_.StudyInstanceUID for study_ in studies]\n",
    "display(study_uids)"
   ]
  },
  {
   "cell_type": "code",
   "execution_count": null,
   "metadata": {},
   "outputs": [],
   "source": [
    "sr_list = []\n",
    "for study_uid in study_uids:\n",
    "    series_list = client.search_for_series(\"ORTHANC1\", study_uid, {\"Modality\": \"SR\"})\n",
    "    series_uids = [series_.SeriesInstanceUID for series_ in series_list]\n",
    "    series_uid = series_uids[0]\n",
    "    sr_list.append({\"study_uid\": study_uid, \"series_uid\": series_uid})\n",
    "\n",
    "display(sr_list)"
   ]
  },
  {
   "cell_type": "code",
   "execution_count": null,
   "metadata": {},
   "outputs": [],
   "source": [
    "sr_series_list = []\n",
    "for sr_item in sr_list:\n",
    "    study_uid = sr_item[\"study_uid\"]\n",
    "    series_uid = sr_item[\"series_uid\"]\n",
    "    series = client.retrieve_series(\"ORTHANC1\", study_uid, series_uid)\n",
    "    sr_series_list = sr_series_list + series"
   ]
  },
  {
   "cell_type": "code",
   "execution_count": null,
   "metadata": {},
   "outputs": [],
   "source": [
    "sr_series_list[0].ContentSequence[0].TextValue"
   ]
  },
  {
   "cell_type": "code",
   "execution_count": null,
   "metadata": {},
   "outputs": [],
   "source": [
    "sr_series_list[0]"
   ]
  }
 ],
 "metadata": {
  "kernelspec": {
   "display_name": ".venv",
   "language": "python",
   "name": "python3"
  },
  "language_info": {
   "codemirror_mode": {
    "name": "ipython",
    "version": 3
   },
   "file_extension": ".py",
   "mimetype": "text/x-python",
   "name": "python",
   "nbconvert_exporter": "python",
   "pygments_lexer": "ipython3",
   "version": "3.12.3"
  },
  "orig_nbformat": 4
 },
 "nbformat": 4,
 "nbformat_minor": 2
}
